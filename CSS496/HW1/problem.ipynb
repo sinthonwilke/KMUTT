{
 "cells": [
  {
   "cell_type": "markdown",
   "metadata": {},
   "source": [
    "### Problem 1: Program that can insert your name and ID"
   ]
  },
  {
   "cell_type": "code",
   "execution_count": 81,
   "metadata": {},
   "outputs": [
    {
     "data": {
      "text/plain": [
       "True"
      ]
     },
     "execution_count": 81,
     "metadata": {},
     "output_type": "execute_result"
    }
   ],
   "source": [
    "import cv2 as cv\n",
    "\n",
    "img = cv.imread('original.jpg')\n",
    "text = 'Name: Sinthon Wilke ID: 64090500450'\n",
    "position = (100, img.shape[0] - 20)\n",
    "font = cv.FONT_HERSHEY_SIMPLEX\n",
    "fontScale = 1\n",
    "color = (255, 255, 255)\n",
    "thickness = 2\n",
    "\n",
    "cv.putText(img, text, position, font, fontScale, color, thickness, cv.LINE_AA)\n",
    "cv.imwrite('problem1.jpg', img)"
   ]
  },
  {
   "cell_type": "markdown",
   "metadata": {},
   "source": [
    "### Problem 2: Program of super resolution"
   ]
  },
  {
   "cell_type": "markdown",
   "metadata": {},
   "source": [
    "#### Problem 2.1: Nearest Neighbor Interpolation"
   ]
  },
  {
   "cell_type": "code",
   "execution_count": 82,
   "metadata": {},
   "outputs": [
    {
     "data": {
      "text/plain": [
       "True"
      ]
     },
     "execution_count": 82,
     "metadata": {},
     "output_type": "execute_result"
    }
   ],
   "source": [
    "import cv2 as cv\n",
    "\n",
    "img = cv.imread('original.jpg')\n",
    "new_width = int(img.shape[1] / 3)\n",
    "new_height = int(img.shape[0] / 3)\n",
    "resized_img = cv.resize(img, (new_width, new_height), interpolation=cv.INTER_NEAREST)\n",
    "\n",
    "cv.imwrite('problem2-1.jpg', resized_img)\n"
   ]
  },
  {
   "cell_type": "markdown",
   "metadata": {},
   "source": [
    "#### Problem 2.2: Bilinear Interpolation"
   ]
  },
  {
   "cell_type": "code",
   "execution_count": 83,
   "metadata": {},
   "outputs": [
    {
     "data": {
      "text/plain": [
       "True"
      ]
     },
     "execution_count": 83,
     "metadata": {},
     "output_type": "execute_result"
    }
   ],
   "source": [
    "import cv2 as cv\n",
    "\n",
    "img = cv.imread('original.jpg')\n",
    "new_width = int(img.shape[1] / 3)\n",
    "new_height = int(img.shape[0] / 3)\n",
    "resized_img = cv.resize(img, (new_width, new_height), interpolation=cv.INTER_LINEAR)\n",
    "\n",
    "cv.imwrite('problem2-2.jpg', resized_img)"
   ]
  },
  {
   "cell_type": "markdown",
   "metadata": {},
   "source": [
    "#### Problem 2.3: Bicubic Interpolation"
   ]
  },
  {
   "cell_type": "code",
   "execution_count": 84,
   "metadata": {},
   "outputs": [
    {
     "data": {
      "text/plain": [
       "True"
      ]
     },
     "execution_count": 84,
     "metadata": {},
     "output_type": "execute_result"
    }
   ],
   "source": [
    "import cv2 as cv\n",
    "\n",
    "img = cv.imread('original.jpg')\n",
    "new_width = int(img.shape[1] / 3)\n",
    "new_height = int(img.shape[0] / 3)\n",
    "resized_img = cv.resize(img, (new_width, new_height), interpolation=cv.INTER_CUBIC)\n",
    "\n",
    "cv.imwrite('problem2-3.jpg', resized_img)"
   ]
  },
  {
   "cell_type": "markdown",
   "metadata": {},
   "source": [
    "### Problem 3: Program of gray level resolution"
   ]
  },
  {
   "cell_type": "code",
   "execution_count": 85,
   "metadata": {},
   "outputs": [
    {
     "data": {
      "text/plain": [
       "True"
      ]
     },
     "execution_count": 85,
     "metadata": {},
     "output_type": "execute_result"
    }
   ],
   "source": [
    "import cv2 as cv\n",
    "import numpy as np\n",
    "\n",
    "img = cv.imread('original.jpg', 0)\n",
    "\n",
    "levels = 4 #bits\n",
    "\n",
    "quantized_image = np.floor(img * (2**levels / 256)) * (256 /  2**levels)\n",
    "quantized_image = quantized_image.astype(np.uint8)\n",
    "\n",
    "cv.imwrite('problem3.jpg', quantized_image)"
   ]
  }
 ],
 "metadata": {
  "kernelspec": {
   "display_name": "Python 3 (ipykernel)",
   "language": "python",
   "name": "python3"
  },
  "language_info": {
   "codemirror_mode": {
    "name": "ipython",
    "version": 3
   },
   "file_extension": ".py",
   "mimetype": "text/x-python",
   "name": "python",
   "nbconvert_exporter": "python",
   "pygments_lexer": "ipython3",
   "version": "3.9.6"
  }
 },
 "nbformat": 4,
 "nbformat_minor": 4
}
