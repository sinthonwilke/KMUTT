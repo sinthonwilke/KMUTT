{
 "cells": [
  {
   "cell_type": "markdown",
   "metadata": {},
   "source": [
    "# รายชื่อสมาชิกกลุ่ม"
   ]
  },
  {
   "cell_type": "markdown",
   "metadata": {},
   "source": [
    "| Student ID  | Name              |\n",
    "| ----------- | ----------------- |\n",
    "| 64090500432 | ตวงทรัพย์ รัตนไทย     |\n",
    "| 64090500436 | นันทวัฒน์ สุกก่ำ     |\n",
    "| 64090500449 | วิชชากร เจริญยิ่ง     |\n",
    "| 64090500450 | สินธร วิลเค่     |\n",
    "\n"
   ]
  },
  {
   "cell_type": "markdown",
   "metadata": {},
   "source": [
    "# Library"
   ]
  },
  {
   "cell_type": "code",
   "execution_count": null,
   "metadata": {},
   "outputs": [],
   "source": [
    "%pip install pandas\n",
    "%pip install openpyxl\n",
    "%pip install lxml\n",
    "%pip install seaborn\n",
    "%pip install scipy\n",
    "\n",
    "import pandas as pd\n",
    "import numpy as np\n",
    "import seaborn as sns\n",
    "import matplotlib.pyplot as plt\n",
    "import matplotlib.ticker as mtick\n",
    "import scipy.stats as stats"
   ]
  },
  {
   "cell_type": "markdown",
   "metadata": {},
   "source": [
    "# Read File"
   ]
  },
  {
   "cell_type": "code",
   "execution_count": null,
   "metadata": {},
   "outputs": [],
   "source": [
    "df_accidents = pd.read_excel('../accidents.xlsx')\n",
    "df_covid19 = pd.read_csv('../covid19.csv')\n",
    "df_gdp_per_capita_growth = pd.read_csv('../gdp_per_capita_growth.csv')\n",
    "df_item_categories = pd.read_csv('../item_categories.csv')\n",
    "df_items = pd.read_csv('../items.csv')\n",
    "df_sales = pd.read_csv('../sales.csv')\n",
    "df_shops = pd.read_csv('../shops.csv')"
   ]
  },
  {
   "cell_type": "markdown",
   "metadata": {},
   "source": [
    "# โจทย์"
   ]
  },
  {
   "cell_type": "markdown",
   "metadata": {},
   "source": [
    "*** ข้อ 1-6 คำนวณเฉพาะสินค้าที่ขายได้โดยไม่นับรวมสินค้าที่ถูกคืน ***"
   ]
  },
  {
   "cell_type": "markdown",
   "metadata": {},
   "source": [
    "## 1. ในทีนี้ เราจะไม่สนใจการคืนสินค้า ดังนั้น ให้ตัดรายการข้อมูล sales.csv ที่มีค่า item_cnt_day หรือ item_price น้อยกว่า 0 และแสดงสรุปข้อมูลให้เห็นในภาพรวมว่าตัดออกไปแล้ว (1 คะแนน)"
   ]
  },
  {
   "cell_type": "markdown",
   "metadata": {},
   "source": [
    "ก่อนตัดข้อมูล: เรียงลำดับให้เห็นว่ามีข้อมูล item_cnt_day น้อยกว่า 0 หรือ item_price น้อยกว่า 0"
   ]
  },
  {
   "cell_type": "code",
   "execution_count": null,
   "metadata": {},
   "outputs": [],
   "source": [
    "df_sales.sort_values(by=['item_cnt_day', 'item_price'], ascending=[True, True])"
   ]
  },
  {
   "cell_type": "markdown",
   "metadata": {},
   "source": [
    "หลังตัดข้อมูล: เรียงลำดับให้เห็นว่ามีข้อมูล item_cnt_day น้อยกว่า 0 หรือ item_price น้อยกว่า 0"
   ]
  },
  {
   "cell_type": "code",
   "execution_count": null,
   "metadata": {},
   "outputs": [],
   "source": [
    "sales_filtered = df_sales[(df_sales['item_cnt_day'] >= 0) & (df_sales['item_price'] >= 0)].copy()\n",
    "sales_filtered.sort_values(by=['item_cnt_day', 'item_price'], ascending=[True, True])"
   ]
  },
  {
   "cell_type": "markdown",
   "metadata": {},
   "source": [
    "## 2. ทุกร้านค้ารวมกันขายสินค้าไปได้กี่ชนิดสินค้า (1 คะแนน)"
   ]
  },
  {
   "cell_type": "code",
   "execution_count": null,
   "metadata": {},
   "outputs": [],
   "source": [
    "print('จำนวนสินค้าทั้งหมดที่ขายไป:', sales_filtered['item_id'].nunique())"
   ]
  },
  {
   "cell_type": "markdown",
   "metadata": {},
   "source": [
    "## 3. สินค้าชนิดใดที่ขายได้มากชิ้นที่สุดในแต่ละร้าน โดยแสดงชื่อร้าน ชื่อสินค้านั้น และจำนวนทีร้านนั้นขายสินค้านั้นได้ โดยแสดงมาเพียง 10 ร้านค้าที้มีจำนวนชิ้นที่ขายได้สูงสุดพอ (4 คะแนน) (ทุกข้อไม่ต้องมีเส้นตาราง)"
   ]
  },
  {
   "cell_type": "code",
   "execution_count": null,
   "metadata": {},
   "outputs": [],
   "source": [
    "sales_shop = sales_filtered.merge(df_shops, how='left', on='shop_id')\n",
    "sales_shop_item = sales_shop.merge(df_items, how='left', on='item_id')\n",
    "\n",
    "item_count_by_shop = sales_shop_item.groupby(['shop_id', 'item_id'])['item_cnt_day'].sum().reset_index(name='item_count')\n",
    "\n",
    "item_count_by_shop['shop_id'] = item_count_by_shop['shop_id'].map(df_shops.set_index('shop_id')['shop_name'])\n",
    "item_count_by_shop = item_count_by_shop.rename(columns={\n",
    "  'shop_id': 'Shop Name',\n",
    "  'item_id': 'Most sold item ID',\n",
    "  'item_count': 'Number of items sold'})\n",
    "\n",
    "item_count_by_shop.sort_values(by=['Number of items sold'], ascending=False).head(10)"
   ]
  },
  {
   "cell_type": "markdown",
   "metadata": {},
   "source": [
    "## 4. แสดงค่าเฉลี่ย, ค่ามัธยฐาน, ค่าสูงสุดและค่าต่ำสุด ของราคาสินค้าของแต่ละร้านค้า โดยเรียงลำดับตามชื่อของร้านค้าจาก A ไป Z รวมทั้งจำนวนสินค้าที่ร้านนั้นมีขายด้วย แสดงผลลัพธ์ดังตารางต่อไปนี้ (4 คะแนน)"
   ]
  },
  {
   "cell_type": "code",
   "execution_count": null,
   "metadata": {},
   "outputs": [],
   "source": [
    "sales_shop = sales_filtered.merge(df_shops, on='shop_id')\n",
    "\n",
    "sales_shop_stats = sales_shop.groupby(['shop_id', 'shop_name']).agg({\n",
    "    'item_price': ['mean', 'median', 'max', 'min'],\n",
    "    'item_id': 'nunique'\n",
    "}).reset_index()\n",
    "\n",
    "sales_shop_stats = sales_shop_stats.drop(columns=['shop_id'], axis=1, level=0)\n",
    "sales_shop_stats.columns = sales_shop_stats.columns.droplevel(level=0)\n",
    "sales_shop_stats = sales_shop_stats.rename(columns={\n",
    "    (''): 'Shop Name',\n",
    "    ('mean'): 'Average',\n",
    "    ('median'): 'Median',\n",
    "    ('max'): 'Highest',\n",
    "    ('min'): 'Lowest',\n",
    "    ('nunique'): 'Number of items'\n",
    "})\n",
    "\n",
    "sales_shop_stats = sales_shop_stats[['Shop Name', 'Number of items', 'Average', 'Median', 'Highest', 'Lowest']]\n",
    "sales_shop_stats = sales_shop_stats.sort_values(by=['Shop Name']).reset_index(drop=True)\n",
    "sales_shop_stats"
   ]
  },
  {
   "cell_type": "markdown",
   "metadata": {},
   "source": [
    "## 5. ยอดขายคำนวณได้จากราคาสินค้า * จำนวนที่ขายได้ ในที่นี้ ให้นำเสนอข้อมูลในรูปตาราง เพื่อรายงานสรุปดังตารางต่อไปนี้ โดยที่"
   ]
  },
  {
   "cell_type": "markdown",
   "metadata": {},
   "source": [
    "### 5.1 แต่ละร้านค้าขายสินค้าแต่ละหมวด (category) รวมได้มูลค่าเท่าใด (คอลัมน์ที่ 3) (5 คะแนน)"
   ]
  },
  {
   "cell_type": "code",
   "execution_count": null,
   "metadata": {},
   "outputs": [],
   "source": [
    "sales_shop_item_category = sales_shop_item.merge(df_item_categories, on='item_category_id')\n",
    "sales_shop_item_category['Sales'] = sales_shop_item_category['item_price'] * sales_shop_item_category['item_cnt_day']\n",
    "\n",
    "total_info = sales_shop_item_category.groupby(['shop_name', 'item_category_name'])['Sales'].sum().reset_index()\n",
    "total_info.rename(columns={\n",
    "  'shop_name': 'Shop Name',\n",
    "  'item_category_name': 'Product Category',\n",
    "  'Sales': 'Sales'\n",
    "  }, inplace=True)\n",
    "\n",
    "pd.options.display.float_format = '{:.2f}'.format\n",
    "total_info"
   ]
  },
  {
   "cell_type": "markdown",
   "metadata": {},
   "source": [
    "### 5.2 โดยให้เรียงลำดับด้วยชื่อร้านค้า (Shop Name) (จากน้อยไปมาก) แล้วยอดขายของแต่ละหมวดสินค้า (คอลัมน์ที่ 3) จากมากไปน้อย (3 คะแนน)"
   ]
  },
  {
   "cell_type": "code",
   "execution_count": null,
   "metadata": {},
   "outputs": [],
   "source": [
    "total_info.sort_values(by=['Shop Name', 'Sales'], ascending=[True, False], inplace=True)\n",
    "total_info"
   ]
  },
  {
   "cell_type": "markdown",
   "metadata": {},
   "source": [
    "## 6. ในข้อนี้ ให้พิจารณาร้านค้าที่มียอดขายรวมสูงสุดเท่านั้น"
   ]
  },
  {
   "cell_type": "markdown",
   "metadata": {},
   "source": [
    "### 6.1 ให้แสดงและวิเคราะห์ยอดขายของร้านโดยแยกเป็นรายเดือน และรายวันของสัปดาห์ (Day of week) (5 คะแนน)"
   ]
  },
  {
   "cell_type": "code",
   "execution_count": null,
   "metadata": {},
   "outputs": [],
   "source": [
    "sales_shop_item_category['date'] = pd.to_datetime(sales_shop_item_category['date'], format='%d.%m.%Y')\n",
    "sales_shop_item_category['Day of week'] = sales_shop_item_category['date'].dt.day_name()\n",
    "sales_shop_item_category['number of month'] = sales_shop_item_category['date'].dt.month\n",
    "sales_shop_item_category['number of day'] = sales_shop_item_category['date'].dt.dayofweek\n",
    "sales_shop_item_category['Month'] = sales_shop_item_category['date'].dt.strftime('%B')\n",
    "\n",
    "top_sale = sales_shop_item_category.groupby(['shop_id','shop_name'])['Sales'].sum().reset_index()\n",
    "top_sale.sort_values(by=['Sales'], ascending=False, inplace=True)\n",
    "\n",
    "shop_top_sale = sales_shop_item_category[sales_shop_item_category['shop_id'] == top_sale['shop_id'].iloc[0]]\n",
    "shop_top_sale_name = top_sale['shop_name'].iloc[0]"
   ]
  },
  {
   "cell_type": "markdown",
   "metadata": {},
   "source": [
    "รายเดือน"
   ]
  },
  {
   "cell_type": "code",
   "execution_count": null,
   "metadata": {},
   "outputs": [],
   "source": [
    "month_sales = shop_top_sale.groupby(['number of month','Month'])['Sales'].sum().reset_index()\n",
    "month_sales.drop(columns=['number of month'])"
   ]
  },
  {
   "cell_type": "markdown",
   "metadata": {},
   "source": [
    "รายวัน"
   ]
  },
  {
   "cell_type": "code",
   "execution_count": null,
   "metadata": {},
   "outputs": [],
   "source": [
    "day_sales = shop_top_sale.groupby(['number of day','Day of week'])['Sales'].sum().reset_index()\n",
    "day_sales.drop(columns=['number of day'])"
   ]
  },
  {
   "cell_type": "markdown",
   "metadata": {},
   "source": [
    "### 6.2 นำข้อมูลในข้อ 6.1 มาแสดงเป็นกราฟ (Chart) อย่างเหมาะสม (2 คะแนน)"
   ]
  },
  {
   "cell_type": "markdown",
   "metadata": {},
   "source": [
    "กราฟรายเดือน"
   ]
  },
  {
   "cell_type": "code",
   "execution_count": null,
   "metadata": {},
   "outputs": [],
   "source": [
    "plt.figure(figsize=(12, 6))\n",
    "\n",
    "bars = plt.bar(month_sales['Month'], month_sales['Sales'], color='skyblue')\n",
    "\n",
    "for bar in bars:\n",
    "    yval = bar.get_height()\n",
    "    plt.text(bar.get_x() + bar.get_width() / 2, yval, f'{yval:,.2f}', ha='center', va='bottom', fontsize=9, color='black')\n",
    "\n",
    "plt.grid(axis='y', alpha=0.5)\n",
    "plt.gca().yaxis.set_major_formatter(mtick.FuncFormatter(lambda x, _: '{:,.0f}'.format(x)))\n",
    "plt.xticks(rotation=45)\n",
    "plt.title(f'{shop_top_sale_name}: Monthly Sales Report')\n",
    "plt.xlabel('Month', labelpad=30)\n",
    "plt.ylabel('Sales', labelpad=40)\n",
    "plt.tight_layout()\n",
    "\n",
    "plt.show()"
   ]
  },
  {
   "cell_type": "markdown",
   "metadata": {},
   "source": [
    "กราฟรายวัน"
   ]
  },
  {
   "cell_type": "code",
   "execution_count": null,
   "metadata": {},
   "outputs": [],
   "source": [
    "plt.figure(figsize=(12, 6))\n",
    "\n",
    "bars = plt.bar(day_sales['Day of week'], day_sales['Sales'], color='skyblue')\n",
    "\n",
    "for bar in bars:\n",
    "    yval = bar.get_height()\n",
    "    plt.text(bar.get_x() + bar.get_width() / 2, yval, f'{yval:,.2f}', ha='center', va='bottom', fontsize=9, color='black')\n",
    "\n",
    "plt.grid(axis='y', alpha=0.5)\n",
    "plt.gca().yaxis.set_major_formatter(mtick.FuncFormatter(lambda x, _: '{:,.0f}'.format(x)))\n",
    "plt.xticks(rotation=45)\n",
    "plt.title(f'{shop_top_sale_name}: Daily Sales Report')\n",
    "plt.xlabel('Day of week', labelpad=30)\n",
    "plt.ylabel('Sales', labelpad=40)\n",
    "plt.tight_layout()\n",
    "\n",
    "plt.show()"
   ]
  },
  {
   "cell_type": "markdown",
   "metadata": {},
   "source": [
    "### 6.3 จากนั้นให้แสดงกราฟ (Chart) เพื่อให้เห็นว่าแต่ละวันของสัปดาห์ (Day of week) ขายได้คิดเป็นสัดส่วนเท่าใด (2 คะแนน)"
   ]
  },
  {
   "cell_type": "code",
   "execution_count": null,
   "metadata": {},
   "outputs": [],
   "source": [
    "day_sales['Percentage'] = day_sales['Sales'] / day_sales['Sales'].sum() * 100\n",
    "\n",
    "plt.figure(figsize=(12, 6))\n",
    "\n",
    "bars = plt.bar(day_sales['Day of week'], day_sales['Percentage'], color='skyblue')\n",
    "\n",
    "for bar in bars:\n",
    "    yval = bar.get_height()\n",
    "    plt.text(bar.get_x() + bar.get_width() / 2, yval, f'{yval:,.2f}%', ha='center', va='bottom', fontsize=9, color='black')\n",
    "\n",
    "plt.grid(axis='y', alpha=0.5)\n",
    "plt.gca().yaxis.set_major_formatter(mtick.FuncFormatter(lambda x, _: '{:,.0f}%'.format(x)))\n",
    "plt.xticks(rotation=45)\n",
    "plt.title(f'{shop_top_sale_name}: Daily Sales Report')\n",
    "plt.xlabel('Day of week', labelpad=30)\n",
    "plt.ylabel('Sales (%)', labelpad=40)\n",
    "plt.tight_layout()\n",
    "\n",
    "plt.show()"
   ]
  },
  {
   "cell_type": "markdown",
   "metadata": {},
   "source": [
    "## 7. จากข้อมูล gdp_per_capita_growth.csv หรือ อัตราการเติบโตของผลิตภัณฑ์มวลรวมต่อประชากร ที่ให้มาของ 220 ประเทศตั้งแต่ปี 1980 ถึง 2019 ให้นำเสนอมูลค่าผลิตภัณฑ์มวลรวมต่อประชากรของ China, Vietnam, India, Thailand, Singapore, Germany, France, USA, Japan, Madagascar, และ Congo โดยกำหนดค่าตั้งต้นเท่ากันเป็น 100 ที่ปีฐาน 1980 และให้นำเสนอเป็นกราฟที่สื่อความหมายคล้ายกับรูปต่อไปนี้ (แต่ควรจะดีกว่า) (6 คะแนน)"
   ]
  },
  {
   "cell_type": "markdown",
   "metadata": {},
   "source": [
    "-90µ = -90 * 10^-6"
   ]
  },
  {
   "cell_type": "code",
   "execution_count": null,
   "metadata": {},
   "outputs": [],
   "source": [
    "selected_years = [col for col in df_gdp_per_capita_growth.columns if col.isdigit() and int(col) >= 1980]\n",
    "selected_countries = ['China', 'Vietnam', 'India', 'Thailand', 'Singapore', 'Germany', 'France', 'USA', 'Japan', 'Madagascar', 'Congo']\n",
    "\n",
    "plot_data = {'Year': selected_years}\n",
    "\n",
    "for country in selected_countries:\n",
    "    data_values = df_gdp_per_capita_growth[df_gdp_per_capita_growth['country'] == country][selected_years].values[0]\n",
    "\n",
    "    data_values = [data.replace('−', '-').replace('µ', 'e-6') if isinstance(data, str) else data for data in data_values]\n",
    "    data_values = pd.to_numeric(data_values, errors='coerce')\n",
    "\n",
    "    data_values[0] = 100\n",
    "    for i in range(1, len(data_values)):\n",
    "        data_values[i] = data_values[i - 1] + ((data_values[i] / 100) * data_values[i - 1])\n",
    "    \n",
    "    plot_data[country] = data_values\n",
    "\n",
    "plot_data = pd.DataFrame(plot_data)"
   ]
  },
  {
   "cell_type": "markdown",
   "metadata": {},
   "source": [
    "กราฟ"
   ]
  },
  {
   "cell_type": "code",
   "execution_count": null,
   "metadata": {},
   "outputs": [],
   "source": [
    "plt.figure(figsize=(18, 9))\n",
    "\n",
    "lines = plt.plot(plot_data['Year'], plot_data.drop(columns=['Year']))\n",
    "len_year = len(plot_data['Year'].unique()) // 3\n",
    "xtrick = [int(i * 3) for i in range(len_year + 1)]\n",
    "ytrick = [i * 100 for i in range(11)]\n",
    "\n",
    "plt.xlim(0, len(plot_data['Year']) - 1)\n",
    "\n",
    "plt.grid(axis='y', alpha=0.5)\n",
    "plt.gca().set_xticks(xtrick)\n",
    "plt.gca().set_yticks(ytrick)  # Set y-axis ticks every 100%\n",
    "plt.title('Growth Comparison Over Years')\n",
    "plt.xlabel('Year', labelpad=30)\n",
    "plt.ylabel(f'Growth% (based on {plot_data[\"Year\"].iloc[0]})', labelpad=40)\n",
    "plt.legend(selected_countries)\n",
    "plt.gca().yaxis.set_major_formatter(mtick.PercentFormatter(100))\n",
    "\n",
    "for i in range(len(xtrick)):\n",
    "    plt.axvline(x=xtrick[i], color='gray', linestyle='--', linewidth=0.8)\n",
    "\n",
    "for line, country in zip(lines, selected_countries):\n",
    "    final_value = line.get_ydata()[-1]\n",
    "    plt.text(len(plot_data['Year']) - 0.7, final_value, f'{country}: {final_value:.2f}%', ha='left', va='center', color=line.get_color())\n",
    "\n",
    "plt.show()"
   ]
  },
  {
   "cell_type": "markdown",
   "metadata": {},
   "source": [
    "## 8. พิจารณาข้อมูลยอดผู้เสียชีวิตสะสม covid19.csv"
   ]
  },
  {
   "cell_type": "markdown",
   "metadata": {},
   "source": [
    "### 8.1 ในกลุ่มประเทศทีมีผู้เสียชีวิต (เฉพาะวันล่าสุด) มากที่สุด 20 ประเทศ ให้นำเสนอสัดส่วนของจำนวนผู้ป่วยในแต่ละประเทศเมื่อเทียบกับทั้งหมด (20 ประเทศนี้) ทั้งนี้ให้รวมประเทศลำดับที่ 11-20 เป็นอื่นๆ (Others) (4 คะแนน)"
   ]
  },
  {
   "cell_type": "code",
   "execution_count": null,
   "metadata": {},
   "outputs": [],
   "source": [
    "latest_covid19 = df_covid19[['Country/Region', df_covid19.columns[-1]]].copy()\n",
    "latest_covid19.rename(columns={latest_covid19.columns[-1]: 'Total Case'}, inplace=True)\n",
    "latest_covid19 = latest_covid19.sort_values(by='Total Case', ascending=False).head(20).reset_index(drop=True)\n",
    "latest_covid19['Total Case'] = pd.to_numeric(latest_covid19['Total Case'], errors='coerce')\n",
    "latest_covid19['Percentage'] = latest_covid19['Total Case'] / latest_covid19['Total Case'].sum() * 100\n",
    "\n",
    "grouped_row_sum = {\n",
    "  'Country/Region': 'Others',\n",
    "  'Total Case': latest_covid19.iloc[10:]['Total Case'].sum(),\n",
    "  'Percentage': latest_covid19.iloc[10:]['Percentage'].sum()\n",
    "} \n",
    "grouped_row_sum = pd.DataFrame(grouped_row_sum, index=[0])\n",
    "\n",
    "latest_covid19.drop(index=latest_covid19.index[10:], inplace=True)\n",
    "latest_covid19 = pd.concat([latest_covid19, grouped_row_sum], ignore_index=True)\n",
    "\n",
    "pd.options.display.float_format = '{:,.2f}'.format\n",
    "latest_covid19"
   ]
  },
  {
   "cell_type": "markdown",
   "metadata": {},
   "source": [
    "กราฟ"
   ]
  },
  {
   "cell_type": "code",
   "execution_count": null,
   "metadata": {},
   "outputs": [],
   "source": [
    "latest_covid19.sort_values(by='Total Case', ascending=False, inplace=True)\n",
    "\n",
    "fig, ax = plt.subplots(figsize=(8, 8))\n",
    "\n",
    "patches, texts, pcts = ax.pie(\n",
    "    latest_covid19['Percentage'], labels=latest_covid19['Country/Region'], autopct='%.2f%%',\n",
    "    wedgeprops={'linewidth': 2.0, 'edgecolor': 'white'},\n",
    "    textprops={'size': '12'},\n",
    "    startangle=90, pctdistance=0.75)\n",
    "\n",
    "for i, patch in enumerate(patches):\n",
    "    texts[i].set_color(patch.get_facecolor())\n",
    "\n",
    "plt.setp(pcts, color='white')\n",
    "ax.set_title('Top COVID-19 Affected Countries', fontsize=18)\n",
    "plt.tight_layout()\n",
    "\n",
    "plt.show()"
   ]
  },
  {
   "cell_type": "markdown",
   "metadata": {},
   "source": [
    "### 8.2 พิจารณาเฉพาะประเทศแคนาดา (รวมกัน 9 วันของเดือนล่าสุด Mar 2023) ให้สร้างกราฟแสดงจำนวน ผู้เสียชีวิตสะสมเรียงลำดับจากมากไปน้อย โดยให้เลือกแสดงเฉพาะรัฐที่มีผู้เสียชีวิตหลักหมืนขึ้นไปเท่านั้น (4 คะแนน)"
   ]
  },
  {
   "cell_type": "code",
   "execution_count": null,
   "metadata": {},
   "outputs": [],
   "source": [
    "day = 9\n",
    "date = '3/9/2023'\n",
    "\n",
    "canada_covid = df_covid19[df_covid19['Country/Region'] == 'Canada']\n",
    "\n",
    "end_date = canada_covid.columns.get_loc(date)\n",
    "start_date = end_date - day\n",
    "\n",
    "date_columns = canada_covid.columns[start_date:end_date + 1]\n",
    "\n",
    "canada_covid = canada_covid[['Province/State', 'Country/Region'] + list(date_columns)]\n",
    "canada_covid.drop(canada_covid[canada_covid[date] < 10000].index, inplace=True)\n",
    "canada_covid['Total'] = canada_covid[date] - canada_covid[date_columns[0]]\n",
    "canada_covid.sort_values(by='Total', ascending=False, inplace=True)"
   ]
  },
  {
   "cell_type": "markdown",
   "metadata": {},
   "source": [
    "กราฟ"
   ]
  },
  {
   "cell_type": "code",
   "execution_count": null,
   "metadata": {},
   "outputs": [],
   "source": [
    "plt.figure(figsize=(12, 6))\n",
    "\n",
    "bars = plt.bar(canada_covid['Province/State'], canada_covid['Total'], color='skyblue')\n",
    "\n",
    "for bar in bars:\n",
    "    yval = bar.get_height()\n",
    "    plt.text(bar.get_x() + bar.get_width() / 2, yval, f'{yval:,.0f}', ha='center', va='bottom', fontsize=9, color='black')\n",
    "\n",
    "plt.grid(axis='y', alpha=0.5)\n",
    "plt.gca().yaxis.set_major_formatter(mtick.FuncFormatter(lambda x, _: '{:,.0f}'.format(x)))\n",
    "plt.xticks(rotation=45)\n",
    "plt.title('Total Deaths in Canada by Province/State')\n",
    "plt.xlabel('Province/State in Canada', labelpad=30)\n",
    "plt.ylabel('Total Deaths', labelpad=40)\n",
    "plt.tight_layout()\n",
    "\n",
    "plt.show()"
   ]
  },
  {
   "cell_type": "markdown",
   "metadata": {},
   "source": [
    "### 8.3 หาจำนวนรวมผู้เสียชีวิตที่เกิดขึ้นในแต่ละเดือน ของแต่ละปี และสร้าง Bubble Chart โดยกำหนดให้แนวนอนเป็นปี แนวตั้ง เป็นเดือน ค่าในแต่ละจุดเป็นจำนวนผู้เสียชีวิตในเดือนกับปีนั้นๆ (3 คะแนน)"
   ]
  },
  {
   "cell_type": "code",
   "execution_count": null,
   "metadata": {},
   "outputs": [],
   "source": [
    "covid = df_covid19.iloc[:, 4:]\n",
    "covid = covid.sum().reset_index(name='Total cases')\n",
    "covid.rename(columns={'index': 'Date'}, inplace=True)\n",
    "covid['Date'] = pd.to_datetime(covid['Date'], format='%m/%d/%y', errors='coerce')\n",
    "\n",
    "covid['Year-Month'] = covid['Date'].dt.to_period('M')\n",
    "covid = covid.groupby('Year-Month')['Total cases'].agg([('Max', 'max')]).reset_index()\n",
    "covid['Max_Diff'] = covid['Max'].diff()\n",
    "covid.loc[0, 'Max_Diff'] = covid.loc[0, 'Max']\n",
    "\n",
    "covid['Month'] = covid['Year-Month'].dt.month \n",
    "covid['Year'] = covid['Year-Month'].dt.year"
   ]
  },
  {
   "cell_type": "markdown",
   "metadata": {},
   "source": [
    "กราฟ"
   ]
  },
  {
   "cell_type": "code",
   "execution_count": null,
   "metadata": {},
   "outputs": [],
   "source": [
    "plt.figure(figsize=(8,6))\n",
    "\n",
    "sns.scatterplot(data=covid, x='Year', y='Month', size='Max_Diff', sizes=(20,500), alpha=0.7, edgecolor='black', linewidths=0, hue='Max_Diff', palette='RdYlGn_r')\n",
    "\n",
    "x_ticks = np.arange(min(covid['Year']), max(covid['Year']) + 1)\n",
    "y_ticks = np.arange(1, 13)\n",
    "plt.legend(title='Total Cases', bbox_to_anchor=(1.05, 1), loc='upper left')\n",
    "plt.xticks(x_ticks)\n",
    "plt.yticks(y_ticks)\n",
    "plt.title('COVID-19 Cases by Month and Year')\n",
    "plt.xlabel('Year', labelpad=30)\n",
    "plt.ylabel('Month', labelpad=40)\n",
    "plt.tight_layout()\n",
    "\n",
    "plt.show()"
   ]
  },
  {
   "cell_type": "markdown",
   "metadata": {},
   "source": [
    "## 9. พิจารณาข้อมูลยอดเหตุการณ์อุบัติเหตุยานพาหนะ accidents.xlsx ที่ให้มาและเข้าถึงเว็บ https://en.wikipedia.org/wiki/Provinces_of_Thailand เพื่อใช้สำหรับแปลงชื่อจังหวัดภาษาไทยให้เป็นอังกฤษ และนำพื้นที่ (Area) และจำนวน ประชากร (ปี 2022) มาใช้งานร่วมกับข้อมูลอุบัติเหตุ"
   ]
  },
  {
   "cell_type": "code",
   "execution_count": null,
   "metadata": {},
   "outputs": [],
   "source": [
    "province_url = 'https://en.wikipedia.org/wiki/Provinces_of_Thailand'\n",
    "province_table = pd.read_html(province_url)\n",
    "province_table = province_table[2]\n",
    "\n",
    "accidents = df_accidents.copy()\n",
    "accidents['Province'] = accidents['Province'].map(province_table.set_index('Name (in Thai)')['Namesake town/city'])"
   ]
  },
  {
   "cell_type": "markdown",
   "metadata": {},
   "source": [
    "### 9.1 จำนวนครั้งการเกิดอุบัตัเหตุในเขตกรุงเทพมหานคร โดยเรียงลำดับตามจำนวนครั้งการเกิดสำหรับประเภทยานพาหนะ (Vehicle) จากมากไปน้อย โดยนำเสนอเป็นทั้งตัวเลข และ กราฟที่เหมาะสม (3 + 2 = 5 คะแนน)"
   ]
  },
  {
   "cell_type": "code",
   "execution_count": null,
   "metadata": {},
   "outputs": [],
   "source": [
    "accidents_in_bkk = accidents[accidents['Province'] == 'Bangkok']\n",
    "\n",
    "accidents_in_bkk = accidents_in_bkk.groupby('Vehicle').size().reset_index(name='Accident Count')\n",
    "accidents_in_bkk.sort_values(by='Accident Count', ascending=False, inplace=True)\n",
    "accidents_in_bkk"
   ]
  },
  {
   "cell_type": "markdown",
   "metadata": {},
   "source": [
    "กราฟ"
   ]
  },
  {
   "cell_type": "code",
   "execution_count": null,
   "metadata": {},
   "outputs": [],
   "source": [
    "plt.rcParams['font.family'] = 'Angsana New'\n",
    "plt.rcParams['font.size'] = 20\n",
    "plt.figure(figsize=(20,10))\n",
    "plt.barh(accidents_in_bkk['Vehicle'], accidents_in_bkk['Accident Count'], color='skyblue')\n",
    "\n",
    "for i, v in enumerate(accidents_in_bkk['Accident Count']):\n",
    "    plt.text(v, i, str(v)+ ' คัน', fontsize=16)\n",
    "\n",
    "plt.xlabel('Vehicle', labelpad=30)\n",
    "plt.ylabel('Accident Count', labelpad=40)\n",
    "plt.title('Accident Count in Bangkok by Vehicle')\n",
    "plt.tight_layout()\n",
    "\n",
    "plt.show()"
   ]
  },
  {
   "cell_type": "markdown",
   "metadata": {},
   "source": [
    "### 9.2 นำเสนอตารางสรุปข้อมูลจำนวนประชากร พื้นที่ ความหนาแน่น จำนวนครั้งอุบัติเหตุ จำนวนครั้งอุบัติเหตุต่อจำนวนประชากรหนึ่งแสนคน และ จำนวนครั้งอุบัติเหตุต่อพื้นที่ ของแต่ละจังหวัด โดยเรียงลำดับตามคอลัมน์จำนวนครั้งอุบัติเหตุต่อจำนวนประชากรหนึ่งแสนคน (Acct/Pop(100000 คน)) ดังตัวอย่างต่อไปนี้ (6 คะแนน)"
   ]
  },
  {
   "cell_type": "code",
   "execution_count": null,
   "metadata": {},
   "outputs": [],
   "source": [
    "accidents_count = accidents.groupby(['Province']).size().reset_index(name='Accident Count')\n",
    "\n",
    "accidents_detail = pd.merge(province_table, accidents_count, left_on='Namesake town/city', right_on='Province')\n",
    "accidents_detail = accidents_detail[['Province', 'Population (December 2022)[1]', 'Area (km2)[2]', 'Population density', 'Accident Count']]\n",
    "accidents_detail['(Acct/Pop(100000))'] = accidents_detail['Accident Count'] / accidents_detail['Population (December 2022)[1]'] * 100000\n",
    "accidents_detail['Acct/Area(km2)'] = accidents_detail['Accident Count'] / accidents_detail['Area (km2)[2]']\n",
    "\n",
    "accidents_detail.rename(columns={'Population (December 2022)[1]':'Population', 'Area (km2)[2]':'Area'}, inplace=True)\n",
    "pd.options.display.float_format = '{:,.2f}'.format\n",
    "accidents_detail.sort_values(by='(Acct/Pop(100000))', ascending=False)"
   ]
  },
  {
   "cell_type": "markdown",
   "metadata": {},
   "source": [
    "### 9.3 จากข้อย่อยที่แล้ว (9.2) ท่านคิดว่าจำนวนคร้้งอุบัติเหตุมีความสัมพันธ์กับข้อมูล {Population, Area, Density} ใด มากน้อยกว่ากันอย่างไร (3 คะแนน)"
   ]
  },
  {
   "cell_type": "markdown",
   "metadata": {},
   "source": [
    "**รูปภาพอ้างอิงแสดงความสัมพันธ์"
   ]
  },
  {
   "cell_type": "markdown",
   "metadata": {},
   "source": [
    "![image.png](https://miro.medium.com/v2/resize:fit:1400/format:webp/1*nElSDIp1jloJiqWX7hniaQ.png)"
   ]
  },
  {
   "cell_type": "markdown",
   "metadata": {},
   "source": [
    "#### Accident/Population"
   ]
  },
  {
   "cell_type": "markdown",
   "metadata": {},
   "source": [
    "กราฟแสดงความสัมพันธ์ระหว่างจำนวนประชากรกับจำนวนอุบัติเหตุ"
   ]
  },
  {
   "cell_type": "code",
   "execution_count": null,
   "metadata": {},
   "outputs": [],
   "source": [
    "sns.jointplot(data=accidents_detail, x='Accident Count', y='Population', kind='reg', height=9)\n",
    "r, _ = stats.pearsonr(accidents_detail['Accident Count'], accidents_detail['Population'])\n",
    "\n",
    "print(f'ค่า r (correlation coefficient) คือ: {r}')"
   ]
  },
  {
   "cell_type": "markdown",
   "metadata": {},
   "source": [
    "จากกราฟแสดงความสัมพันธ์ระหว่างจำนวนประชากรกับจำนวนอุบัติเหตุซึ่งมีค่า correlation coefficient คือ: 0.8227221197691654 แสดงให้เห็นว่า จำนวนประชากรกับจำนวนการเกิดอุบัติเหตุนั้นมีความสัมพันธ์กันเป็นอย่างมาก"
   ]
  },
  {
   "cell_type": "markdown",
   "metadata": {},
   "source": [
    "#### Accident/Area"
   ]
  },
  {
   "cell_type": "markdown",
   "metadata": {},
   "source": [
    "กราฟแสดงความสัมพันธ์ระหว่างพื้นที่กับจำนวนอุบัติเหตุ"
   ]
  },
  {
   "cell_type": "code",
   "execution_count": null,
   "metadata": {},
   "outputs": [],
   "source": [
    "sns.jointplot(data=accidents_detail, x='Accident Count', y='Area', kind='reg', height=9)\n",
    "r, _ = stats.pearsonr(accidents_detail['Accident Count'], accidents_detail['Area'])\n",
    "\n",
    "print(f'ค่า r (correlation coefficient) คือ: {r}')"
   ]
  },
  {
   "cell_type": "markdown",
   "metadata": {},
   "source": [
    "จากกราฟแสดงความสัมพันธ์ระหว่างพื้นที่กับจำนวนอุบัติเหตุซึ่งมีค่า correlation coefficient คือ: 0.4396194049245709 แสดงให้เห็นว่า พื้นที่กับจำนวนการเกิดอุบัติเหตุนั้นมีความสัมพันธ์กันน้อย"
   ]
  },
  {
   "cell_type": "markdown",
   "metadata": {},
   "source": [
    "#### Accident/Density"
   ]
  },
  {
   "cell_type": "markdown",
   "metadata": {},
   "source": [
    "กราฟแสดงความสัมพันธ์ระหว่างความหนาแน่นของประชากรกับจำนวนอุบัติเหตุ"
   ]
  },
  {
   "cell_type": "code",
   "execution_count": null,
   "metadata": {},
   "outputs": [],
   "source": [
    "sns.jointplot(data=accidents_detail, x='Accident Count', y='Population density', kind='reg', height=9)\n",
    "r, _ = stats.pearsonr(accidents_detail['Accident Count'], accidents_detail['Population density'])\n",
    "print(f'ค่า r (correlation coefficient) คือ: {r}')\n"
   ]
  },
  {
   "cell_type": "markdown",
   "metadata": {},
   "source": [
    "จากกราฟแสดงความสัมพันธ์ระหว่างความหนาแน่นของประชากรกับจำนวนอุบัติเหตุซึ่งมีค่า correlation coefficient คือ: 0.3144337685268983 แสดงให้เห็นว่า ความหนาแน่นของประชากรกับจำนวนการเกิดอุบัติเหตุนั้นมีความสัมพันธ์กันน้อยมาก"
   ]
  }
 ],
 "metadata": {
  "kernelspec": {
   "display_name": "Python 3",
   "language": "python",
   "name": "python3"
  },
  "language_info": {
   "codemirror_mode": {
    "name": "ipython",
    "version": 3
   },
   "file_extension": ".py",
   "mimetype": "text/x-python",
   "name": "python",
   "nbconvert_exporter": "python",
   "pygments_lexer": "ipython3",
   "version": "3.9.6"
  }
 },
 "nbformat": 4,
 "nbformat_minor": 2
}
